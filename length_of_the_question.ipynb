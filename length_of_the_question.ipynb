{
 "cells": [
  {
   "cell_type": "code",
   "execution_count": 1,
   "metadata": {
    "collapsed": true
   },
   "outputs": [
    {
     "data": {
      "text/plain": "         Column                                           Question\n0    Respondent                               Respondent ID number\n1  Professional         Which of the following best describes you?\n2  ProgramHobby  Do you program as a hobby or contribute to ope...\n3       Country            In which country do you currently live?\n4    University  Are you currently enrolled in a formal, degree...",
      "text/html": "<div>\n<style scoped>\n    .dataframe tbody tr th:only-of-type {\n        vertical-align: middle;\n    }\n\n    .dataframe tbody tr th {\n        vertical-align: top;\n    }\n\n    .dataframe thead th {\n        text-align: right;\n    }\n</style>\n<table border=\"1\" class=\"dataframe\">\n  <thead>\n    <tr style=\"text-align: right;\">\n      <th></th>\n      <th>Column</th>\n      <th>Question</th>\n    </tr>\n  </thead>\n  <tbody>\n    <tr>\n      <th>0</th>\n      <td>Respondent</td>\n      <td>Respondent ID number</td>\n    </tr>\n    <tr>\n      <th>1</th>\n      <td>Professional</td>\n      <td>Which of the following best describes you?</td>\n    </tr>\n    <tr>\n      <th>2</th>\n      <td>ProgramHobby</td>\n      <td>Do you program as a hobby or contribute to ope...</td>\n    </tr>\n    <tr>\n      <th>3</th>\n      <td>Country</td>\n      <td>In which country do you currently live?</td>\n    </tr>\n    <tr>\n      <th>4</th>\n      <td>University</td>\n      <td>Are you currently enrolled in a formal, degree...</td>\n    </tr>\n  </tbody>\n</table>\n</div>"
     },
     "execution_count": 1,
     "metadata": {},
     "output_type": "execute_result"
    }
   ],
   "source": [
    "import numpy as np\n",
    "import pandas as pd\n",
    "import matplotlib.pyplot as plt\n",
    "import seaborn as sns\n",
    "from pprint import pprint\n",
    "from plot_function import *\n",
    "%matplotlib inline\n",
    "\n",
    "results = pd.read_csv('survey-results-public.csv')\n",
    "schema = pd.read_csv('survey-results-schema.csv')\n",
    "schema.head()"
   ]
  },
  {
   "cell_type": "markdown",
   "source": [
    "First thing I needed to do is to get the count of all responses from each column in the dataset."
   ],
   "metadata": {
    "collapsed": false,
    "pycharm": {
     "name": "#%% md\n"
    }
   }
  },
  {
   "cell_type": "code",
   "execution_count": 2,
   "outputs": [
    {
     "data": {
      "text/plain": "[51392,\n 51392,\n 51392,\n 51392,\n 51392,\n 51392,\n 51392,\n 42841,\n 44008,\n 38922,\n 38823,\n 51145,\n 40890,\n 974,\n 36125,\n 10696,\n 1553,\n 4890,\n 42695,\n 40376,\n 923,\n 921,\n 923,\n 917,\n 928,\n 935,\n 922,\n 930,\n 51008,\n 31293,\n 31234,\n 31304,\n 31184,\n 31240,\n 30903,\n 31021,\n 31057,\n 30984,\n 31047,\n 31014,\n 30886,\n 30965,\n 30702,\n 30971,\n 30810,\n 30935,\n 33380,\n 20600,\n 32710,\n 22130,\n 22147,\n 22136,\n 22123,\n 22189,\n 22183,\n 22146,\n 22004,\n 21973,\n 22020,\n 21986,\n 21998,\n 21978,\n 21997,\n 22023,\n 30235,\n 42046,\n 24719,\n 22461,\n 23737,\n 28642,\n 28694,\n 28639,\n 28596,\n 28617,\n 28553,\n 28553,\n 28663,\n 28618,\n 28545,\n 21408,\n 13387,\n 38851,\n 23355,\n 30354,\n 26735,\n 2602,\n 23568,\n 36696,\n 36625,\n 33771,\n 20229,\n 23331,\n 29452,\n 25109,\n 29114,\n 27884,\n 35830,\n 36457,\n 25771,\n 30730,\n 29561,\n 29641,\n 29619,\n 29399,\n 29765,\n 29350,\n 29640,\n 29457,\n 25472,\n 29725,\n 29727,\n 29736,\n 29671,\n 29689,\n 29691,\n 21658,\n 21659,\n 21584,\n 21601,\n 21593,\n 21613,\n 21616,\n 21595,\n 21545,\n 21586,\n 21578,\n 36932,\n 36592,\n 35203,\n 34290,\n 33909,\n 33468,\n 33435,\n 33415,\n 33618,\n 33556,\n 33407,\n 30817,\n 31737,\n 30129,\n 32410,\n 33946,\n 33650,\n 33369,\n 31062,\n 35047,\n 34938,\n 33033,\n 34720,\n 34536,\n 34419,\n 34612,\n 12891,\n 2566]"
     },
     "execution_count": 2,
     "metadata": {},
     "output_type": "execute_result"
    }
   ],
   "source": [
    "column_counts = list(results.count())"
   ],
   "metadata": {
    "collapsed": false,
    "pycharm": {
     "name": "#%%\n"
    }
   }
  },
  {
   "cell_type": "markdown",
   "source": [
    "Now I need to check the length of, and the number of responses for, each question. Then I group the question by its length with others in that bucket (50 for this case).\n",
    "Each bucket will be averaged later."
   ],
   "metadata": {
    "collapsed": false,
    "pycharm": {
     "name": "#%% md\n"
    }
   }
  },
  {
   "cell_type": "code",
   "execution_count": 3,
   "outputs": [],
   "source": [
    "bucket_size = 50\n",
    "responses_by_question_length = {}\n",
    "for column_index, column in enumerate(results.columns):\n",
    "    if column == \"Respondent\":\n",
    "        continue\n",
    "    question_schema = schema.loc[schema['Column'] == column]\n",
    "    question_string = list(question_schema['Question'])[0]\n",
    "    number_of_responses = column_counts[column_index]\n",
    "    length_bucket = np.floor(len(question_string)/bucket_size)*bucket_size\n",
    "    responses_by_question_length.setdefault(length_bucket, []).append(number_of_responses)"
   ],
   "metadata": {
    "collapsed": false,
    "pycharm": {
     "name": "#%%\n"
    }
   }
  },
  {
   "cell_type": "markdown",
   "source": [
    "Now that I have all the response counts in their appropriate buckets, I can average out each of the lists. For the buckets in between, I'm giving them an average of 0."
   ],
   "metadata": {
    "collapsed": false,
    "pycharm": {
     "name": "#%% md\n"
    }
   }
  },
  {
   "cell_type": "code",
   "execution_count": 4,
   "outputs": [],
   "source": [
    "grouped_averages = {}\n",
    "for group in range(0, round(max(*list(responses_by_question_length.keys())))+bucket_size, bucket_size):\n",
    "    if responses_by_question_length.get(group):\n",
    "        average = sum(responses_by_question_length[group])/len(responses_by_question_length[group])\n",
    "    else:\n",
    "        average = 0\n",
    "    grouped_averages.setdefault(group, average)"
   ],
   "metadata": {
    "collapsed": false,
    "pycharm": {
     "name": "#%%\n"
    }
   }
  },
  {
   "cell_type": "markdown",
   "source": [
    "Next I'll draw the bar graph using the buckets as the categories (e.g \"0-50\", \"50-100\")."
   ],
   "metadata": {
    "collapsed": false,
    "pycharm": {
     "name": "#%% md\n"
    }
   }
  },
  {
   "cell_type": "code",
   "execution_count": 6,
   "outputs": [
    {
     "name": "stderr",
     "output_type": "stream",
     "text": [
      "C:\\Users\\killa\\Documents\\udacity ds nanodegree\\project1\\plot_function.py:40: UserWarning: FixedFormatter should only be used together with FixedLocator\n",
      "  ax.set_xticklabels(x_tickets, rotation=45)\n"
     ]
    },
    {
     "data": {
      "text/plain": "<Figure size 432x288 with 1 Axes>",
      "image/png": "[encoded data removed]"
     },
     "metadata": {
      "needs_background": "light"
     },
     "output_type": "display_data"
    }
   ],
   "source": [
    "groups = [\"%s-%s\" % (key, key + bucket_size-1) for key in grouped_averages.keys()]\n",
    "plot_response_graph(\n",
    "    grouped_averages, sum(column_counts)/len(column_counts), results.shape[0],\n",
    "    x_tickets=groups,\n",
    "    title=\"Average number of responses by length of the question\",\n",
    "    x_label=\"Length of the question\"\n",
    ")"
   ],
   "metadata": {
    "collapsed": false,
    "pycharm": {
     "name": "#%%\n"
    }
   }
  }
 ],
 "metadata": {
  "kernelspec": {
   "display_name": "Python 3",
   "language": "python",
   "name": "python3"
  },
  "language_info": {
   "codemirror_mode": {
    "name": "ipython",
    "version": 2
   },
   "file_extension": ".py",
   "mimetype": "text/x-python",
   "name": "python",
   "nbconvert_exporter": "python",
   "pygments_lexer": "ipython2",
   "version": "2.7.6"
  }
 },
 "nbformat": 4,
 "nbformat_minor": 0
}