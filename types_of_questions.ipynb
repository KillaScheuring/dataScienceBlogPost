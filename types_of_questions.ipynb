{
 "cells": [
  {
   "cell_type": "code",
   "execution_count": 1,
   "outputs": [
    {
     "data": {
      "text/plain": "         Column                                           Question\n0    Respondent                               Respondent ID number\n1  Professional         Which of the following best describes you?\n2  ProgramHobby  Do you program as a hobby or contribute to ope...\n3       Country            In which country do you currently live?\n4    University  Are you currently enrolled in a formal, degree...",
      "text/html": "<div>\n<style scoped>\n    .dataframe tbody tr th:only-of-type {\n        vertical-align: middle;\n    }\n\n    .dataframe tbody tr th {\n        vertical-align: top;\n    }\n\n    .dataframe thead th {\n        text-align: right;\n    }\n</style>\n<table border=\"1\" class=\"dataframe\">\n  <thead>\n    <tr style=\"text-align: right;\">\n      <th></th>\n      <th>Column</th>\n      <th>Question</th>\n    </tr>\n  </thead>\n  <tbody>\n    <tr>\n      <th>0</th>\n      <td>Respondent</td>\n      <td>Respondent ID number</td>\n    </tr>\n    <tr>\n      <th>1</th>\n      <td>Professional</td>\n      <td>Which of the following best describes you?</td>\n    </tr>\n    <tr>\n      <th>2</th>\n      <td>ProgramHobby</td>\n      <td>Do you program as a hobby or contribute to ope...</td>\n    </tr>\n    <tr>\n      <th>3</th>\n      <td>Country</td>\n      <td>In which country do you currently live?</td>\n    </tr>\n    <tr>\n      <th>4</th>\n      <td>University</td>\n      <td>Are you currently enrolled in a formal, degree...</td>\n    </tr>\n  </tbody>\n</table>\n</div>"
     },
     "execution_count": 1,
     "metadata": {},
     "output_type": "execute_result"
    }
   ],
   "source": [
    "import numpy as np\n",
    "import pandas as pd\n",
    "import matplotlib.pyplot as plt\n",
    "import seaborn as sns\n",
    "from pprint import pprint\n",
    "from plot_function import *\n",
    "%matplotlib inline\n",
    "\n",
    "results = pd.read_csv('survey-results-public.csv')\n",
    "schema = pd.read_csv('survey-results-schema.csv')\n",
    "schema.head()"
   ],
   "metadata": {
    "collapsed": false,
    "pycharm": {
     "name": "#%%\n"
    }
   }
  },
  {
   "cell_type": "markdown",
   "source": [
    "What kinds of question are there in this survey?"
   ],
   "metadata": {
    "collapsed": false,
    "pycharm": {
     "name": "#%% md\n"
    }
   }
  },
  {
   "cell_type": "code",
   "execution_count": 2,
   "outputs": [
    {
     "data": {
      "text/plain": "{'single selection': 125, 'multiple selection': 22, 'number': 6}"
     },
     "execution_count": 2,
     "metadata": {},
     "output_type": "execute_result"
    }
   ],
   "source": [
    "question_types = {}\n",
    "data_type = results.dtypes\n",
    "for column_index, column in enumerate(results.columns):\n",
    "    if column == \"Respondent\":\n",
    "        continue\n",
    "    question_schema = schema.loc[schema['Column'] == column]\n",
    "    question_string = list(question_schema['Question'])[0]\n",
    "    if str(data_type[column_index]) == \"float64\":\n",
    "            question_type = \"number\"\n",
    "    else:\n",
    "        if results[column].str.contains(\";\").sum() > 0:\n",
    "            question_type = \"multiple selection\"\n",
    "        else:\n",
    "            question_type = \"single selection\"\n",
    "    question_types.setdefault(question_type, []).append(column)\n",
    "{key: len(value) for (key, value) in question_types.items()}"
   ],
   "metadata": {
    "collapsed": false,
    "pycharm": {
     "name": "#%%\n"
    }
   }
  },
  {
   "cell_type": "markdown",
   "source": [
    "Now that I know what kind of question each column is associated with, I can count and average the number of responses"
   ],
   "metadata": {
    "collapsed": false
   }
  },
  {
   "cell_type": "code",
   "execution_count": 3,
   "outputs": [
    {
     "data": {
      "text/plain": "{'single selection': 28210.04,\n 'multiple selection': 27002.272727272728,\n 'number': 25953.333333333332}"
     },
     "execution_count": 3,
     "metadata": {},
     "output_type": "execute_result"
    }
   ],
   "source": [
    "answer_counts = {}\n",
    "for question_type in question_types:\n",
    "    counts = list(results[question_types[question_type]].count())\n",
    "    average = sum(counts)/len(counts)\n",
    "    answer_counts.setdefault(question_type, average)\n",
    "answer_counts"
   ],
   "metadata": {
    "collapsed": false,
    "pycharm": {
     "name": "#%%\n"
    }
   }
  },
  {
   "cell_type": "markdown",
   "source": [
    "Now I have the counts I can graph them based on their question types"
   ],
   "metadata": {
    "collapsed": false,
    "pycharm": {
     "name": "#%% md\n"
    }
   }
  },
  {
   "cell_type": "code",
   "execution_count": 5,
   "outputs": [
    {
     "name": "stderr",
     "output_type": "stream",
     "text": [
      "C:\\Users\\killa\\Documents\\udacity ds nanodegree\\project1\\plot_function.py:40: UserWarning: FixedFormatter should only be used together with FixedLocator\n",
      "  ax.set_xticklabels(x_tickets, rotation=45)\n"
     ]
    },
    {
     "data": {
      "text/plain": "<Figure size 432x288 with 1 Axes>",
      "image/png": "[encoded data removed]"
     },
     "metadata": {
      "needs_background": "light"
     },
     "output_type": "display_data"
    }
   ],
   "source": [
    "column_counts = results.count()\n",
    "plot_response_graph(\n",
    "    answer_counts, sum(column_counts)/len(column_counts), results.shape[0],\n",
    "    title=\"Average number of responses by question type\",\n",
    "    x_label=\"Question type\"\n",
    ")"
   ],
   "metadata": {
    "collapsed": false,
    "pycharm": {
     "name": "#%%\n"
    }
   }
  }
 ],
 "metadata": {
  "kernelspec": {
   "display_name": "Python 3",
   "language": "python",
   "name": "python3"
  },
  "language_info": {
   "codemirror_mode": {
    "name": "ipython",
    "version": 2
   },
   "file_extension": ".py",
   "mimetype": "text/x-python",
   "name": "python",
   "nbconvert_exporter": "python",
   "pygments_lexer": "ipython2",
   "version": "2.7.6"
  }
 },
 "nbformat": 4,
 "nbformat_minor": 0
}